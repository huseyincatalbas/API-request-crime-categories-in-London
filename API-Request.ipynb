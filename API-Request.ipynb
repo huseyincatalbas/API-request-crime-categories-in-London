{
 "cells": [
  {
   "cell_type": "markdown",
   "metadata": {},
   "source": [
    "##### Ad-Soyad = Hüseyin ÇATALBAŞ\n",
    "##### E-posta = hcatalbas@ceng.ktu.edu.tr\n",
    "##### Proje = Crime categories committed in London\n",
    "\n",
    "\n",
    "\n",
    "\n",
    "\n"
   ]
  },
  {
   "cell_type": "markdown",
   "metadata": {},
   "source": [
    "# ---------------------------------------------------------------------------------------------------------------"
   ]
  },
  {
   "cell_type": "markdown",
   "metadata": {},
   "source": [
    "# Londra'da 2021 yılının Ocak ayında işlenen suçların kategorileri ve sayıları"
   ]
  },
  {
   "cell_type": "code",
   "execution_count": 1,
   "metadata": {},
   "outputs": [
    {
     "data": {
      "text/plain": [
       "Counter({'anti-social-behaviour': 6,\n",
       "         'burglary': 1,\n",
       "         'drugs': 8,\n",
       "         'possession-of-weapons': 3,\n",
       "         'violent-crime': 9,\n",
       "         'other-crime': 7})"
      ]
     },
     "execution_count": 1,
     "metadata": {},
     "output_type": "execute_result"
    }
   ],
   "source": [
    "import requests\n",
    "from collections import Counter\n",
    "\n",
    "class SucRaporu():\n",
    "\n",
    "    def __init__(self, bolge, tarih, suc_tipi):\n",
    "        self.bolge=bolge\n",
    "        self.tarih=tarih\n",
    "        self.suc_tipi=suc_tipi\n",
    "        self.suclar=self.suclari_bul()\n",
    "\n",
    "    def suclari_bul(self):\n",
    "        suc_parametre_url='https://data.police.uk/api/crimes-no-location'\n",
    "        payload={\n",
    "            'category':self.suc_tipi,\n",
    "            'force':self.bolge,\n",
    "            'date':self.tarih }               \n",
    "        response=requests.get(suc_parametre_url, params=payload)\n",
    "        if response.status_code == 200:\n",
    "            return response.json()\n",
    "        else:\n",
    "            return None\n",
    "\n",
    "    def suclari_raporla(self):\n",
    "        suclar_listesi=[]\n",
    "        if self.suclar is not None:\n",
    "            for suc in self.suclar:\n",
    "                suclar_listesi.append(suc['category'])             \n",
    "        return Counter(suclar_listesi)\n",
    "\n",
    "suc_bilgisi=SucRaporu('city-of-london', '2021-01', 'all-crime')\n",
    "suc_bilgisi.suclari_raporla()"
   ]
  },
  {
   "cell_type": "code",
   "execution_count": null,
   "metadata": {},
   "outputs": [],
   "source": []
  }
 ],
 "metadata": {
  "kernelspec": {
   "display_name": "Python 3",
   "language": "python",
   "name": "python3"
  },
  "language_info": {
   "codemirror_mode": {
    "name": "ipython",
    "version": 3
   },
   "file_extension": ".py",
   "mimetype": "text/x-python",
   "name": "python",
   "nbconvert_exporter": "python",
   "pygments_lexer": "ipython3",
   "version": "3.8.5"
  }
 },
 "nbformat": 4,
 "nbformat_minor": 4
}
